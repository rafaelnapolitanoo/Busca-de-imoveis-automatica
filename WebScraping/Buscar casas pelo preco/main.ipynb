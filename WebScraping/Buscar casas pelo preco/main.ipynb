{
 "cells": [
  {
   "cell_type": "code",
   "execution_count": 45,
   "metadata": {},
   "outputs": [
    {
     "ename": "TypeError",
     "evalue": "'list' object is not callable",
     "output_type": "error",
     "traceback": [
      "\u001b[1;31m---------------------------------------------------------------------------\u001b[0m",
      "\u001b[1;31mTypeError\u001b[0m                                 Traceback (most recent call last)",
      "Cell \u001b[1;32mIn[45], line 35\u001b[0m\n\u001b[0;32m     33\u001b[0m \u001b[38;5;28;01mfor\u001b[39;00m elemento \u001b[38;5;129;01min\u001b[39;00m elementos:\n\u001b[0;32m     34\u001b[0m     link_anuncio \u001b[38;5;241m=\u001b[39m elemento\u001b[38;5;241m.\u001b[39mget_attribute(\u001b[38;5;124m'\u001b[39m\u001b[38;5;124mhref\u001b[39m\u001b[38;5;124m'\u001b[39m)\n\u001b[1;32m---> 35\u001b[0m     \u001b[38;5;28;43mprint\u001b[39;49m\u001b[43m(\u001b[49m\u001b[43mlink_anuncio\u001b[49m\u001b[43m)\u001b[49m\n\u001b[0;32m     37\u001b[0m \u001b[38;5;66;03m#pegar as informações \u001b[39;00m\n\u001b[0;32m     38\u001b[0m \n\u001b[0;32m     39\u001b[0m \u001b[38;5;66;03m#output\u001b[39;00m\n",
      "\u001b[1;31mTypeError\u001b[0m: 'list' object is not callable"
     ]
    }
   ],
   "source": [
    "#import geral\n",
    "from selenium import webdriver\n",
    "from selenium.webdriver.chrome.service import Service\n",
    "from webdriver_manager.chrome import ChromeDriverManager\n",
    "from selenium.webdriver.common.by import By\n",
    "from selenium.webdriver.common.keys import Keys\n",
    "\n",
    "import time\n",
    "\n",
    "servico = Service(ChromeDriverManager().install())\n",
    "driver = webdriver.Chrome(service=servico)\n",
    "\n",
    "#entrar mo site\n",
    "driver.get(\"https://www.chavesnamao.com.br/imoveis-a-venda/brasil/?utm_source=google&utm_medium=trafego_venda&utm_campaign=trafego_br_venda&utm_content=&gad_source=1&gclid=CjwKCAiA3JCvBhA8EiwA4kujZswiAS1j6t2OVvNz64neLakYc3zx0olvgvWaRBf6-460fyXOxBhZUhoCsPsQAvD_BwE\")\n",
    "time.sleep(6)\n",
    "\n",
    "#caixa pesquisa\n",
    "driver.find_element(By.ID, \"locInp\").send_keys(\"Santo andre\")\n",
    "time.sleep(2)\n",
    "driver.find_element(By.ID, \"locInp\").send_keys(Keys.ENTER)\n",
    "\n",
    "#preenchendo formulario\n",
    "qnt__quartos =driver.find_element(By.ID, \"quartos3\").click()\n",
    "time.sleep(1)\n",
    "max_preco = driver.find_element(By.ID, \"maxPrice\").send_keys(\"400.000\")\n",
    "time.sleep(1)\n",
    "area_min = driver.find_element(By.ID, \"areaMin\").send_keys(\"70\")\n",
    "time.sleep(1)\n",
    "\n",
    "#buscar os links dos imoveis\n",
    "elementos = driver.find_elements(By.CLASS_NAME, 'containerSlider ')\n",
    "\n",
    "for elemento in elementos:\n",
    "    link_anuncio = elemento.get_attribute('href')\n",
    "    print(link_anuncio)\n",
    "\n",
    "#pegar as informações \n",
    "\n",
    "#output"
   ]
  },
  {
   "cell_type": "markdown",
   "metadata": {},
   "source": [
    "Dia 1 -- parei no erro do list"
   ]
  },
  {
   "cell_type": "markdown",
   "metadata": {},
   "source": [
    "## Preenchendo formulario: quartos, preco, etc"
   ]
  },
  {
   "cell_type": "code",
   "execution_count": null,
   "metadata": {},
   "outputs": [],
   "source": [
    "import time\n",
    "driver.find_element(By.ID, \"locInp\").send_keys(\"Santo andre\")\n"
   ]
  },
  {
   "cell_type": "code",
   "execution_count": 3,
   "metadata": {},
   "outputs": [],
   "source": [
    "driver.find_element(By.ID, \"locInp\").send_keys(Keys.ENTER)"
   ]
  },
  {
   "cell_type": "code",
   "execution_count": 5,
   "metadata": {},
   "outputs": [],
   "source": [
    "qnt__quartos =driver.find_element(By.ID, \"quartos3\").click()"
   ]
  },
  {
   "cell_type": "code",
   "execution_count": 6,
   "metadata": {},
   "outputs": [],
   "source": [
    "max_preco = driver.find_element(By.ID, \"maxPrice\").send_keys(\"400.000\")"
   ]
  },
  {
   "cell_type": "code",
   "execution_count": 7,
   "metadata": {},
   "outputs": [],
   "source": [
    "area_min = driver.find_element(By.ID, \"areaMin\").send_keys(\"70\")"
   ]
  },
  {
   "cell_type": "code",
   "execution_count": 56,
   "metadata": {},
   "outputs": [
    {
     "ename": "TypeError",
     "evalue": "'list' object is not callable",
     "output_type": "error",
     "traceback": [
      "\u001b[1;31m---------------------------------------------------------------------------\u001b[0m",
      "\u001b[1;31mTypeError\u001b[0m                                 Traceback (most recent call last)",
      "Cell \u001b[1;32mIn[56], line 4\u001b[0m\n\u001b[0;32m      2\u001b[0m \u001b[38;5;28;01mfor\u001b[39;00m elemento \u001b[38;5;129;01min\u001b[39;00m elementos:\n\u001b[0;32m      3\u001b[0m     link_anuncio \u001b[38;5;241m=\u001b[39m elemento\u001b[38;5;241m.\u001b[39mget_attribute(\u001b[38;5;124m'\u001b[39m\u001b[38;5;124mhref\u001b[39m\u001b[38;5;124m'\u001b[39m)\n\u001b[1;32m----> 4\u001b[0m     \u001b[38;5;28;43mprint\u001b[39;49m\u001b[43m(\u001b[49m\u001b[43mlink_anuncio\u001b[49m\u001b[43m)\u001b[49m\n",
      "\u001b[1;31mTypeError\u001b[0m: 'list' object is not callable"
     ]
    }
   ],
   "source": [
    "elementos = driver.find_elements(By.CLASS_NAME, 'containerSlider ')\n",
    "for elemento in elementos:\n",
    "    link_anuncio = elemento.get_attribute('href')\n",
    "    print(link_anuncio)\n"
   ]
  },
  {
   "cell_type": "code",
   "execution_count": 44,
   "metadata": {},
   "outputs": [
    {
     "ename": "AttributeError",
     "evalue": "'dict' object has no attribute 'add'",
     "output_type": "error",
     "traceback": [
      "\u001b[1;31m---------------------------------------------------------------------------\u001b[0m",
      "\u001b[1;31mAttributeError\u001b[0m                            Traceback (most recent call last)",
      "Cell \u001b[1;32mIn[44], line 5\u001b[0m\n\u001b[0;32m      3\u001b[0m \u001b[38;5;28;01mfor\u001b[39;00m elemento \u001b[38;5;129;01min\u001b[39;00m elementos:\n\u001b[0;32m      4\u001b[0m     link_anuncio \u001b[38;5;241m=\u001b[39m elemento\u001b[38;5;241m.\u001b[39mget_attribute(\u001b[38;5;124m'\u001b[39m\u001b[38;5;124mhref\u001b[39m\u001b[38;5;124m'\u001b[39m)\n\u001b[1;32m----> 5\u001b[0m     \u001b[43mlinks\u001b[49m\u001b[38;5;241;43m.\u001b[39;49m\u001b[43madd\u001b[49m(link_anuncio)\n\u001b[0;32m      7\u001b[0m \u001b[38;5;66;03m# Print the list of links list\u001b[39;00m\n\u001b[0;32m      8\u001b[0m \u001b[38;5;28;01mfor\u001b[39;00m link \u001b[38;5;129;01min\u001b[39;00m links:\n",
      "\u001b[1;31mAttributeError\u001b[0m: 'dict' object has no attribute 'add'"
     ]
    }
   ],
   "source": []
  },
  {
   "cell_type": "code",
   "execution_count": 26,
   "metadata": {},
   "outputs": [
    {
     "name": "stdout",
     "output_type": "stream",
     "text": [
      "None\n"
     ]
    }
   ],
   "source": [
    " #! o xpath ja tem aspas duplas tomar cuidadop \n",
    "link_anuncio = driver.find_element(By.XPATH, '//*[@id=\"galeria+19287434\"]').get_attribute(\"href\")\n",
    "print(link_anuncio)\n",
    "\n",
    " #? CLASSE GERAL class=\"imoveis__Card-obm8pe-0 tNifl  first \"               IMPORTANTE CLASS slider ou containerSlider\n"
   ]
  }
 ],
 "metadata": {
  "kernelspec": {
   "display_name": "Python 3",
   "language": "python",
   "name": "python3"
  },
  "language_info": {
   "codemirror_mode": {
    "name": "ipython",
    "version": 3
   },
   "file_extension": ".py",
   "mimetype": "text/x-python",
   "name": "python",
   "nbconvert_exporter": "python",
   "pygments_lexer": "ipython3",
   "version": "3.12.2"
  }
 },
 "nbformat": 4,
 "nbformat_minor": 2
}
